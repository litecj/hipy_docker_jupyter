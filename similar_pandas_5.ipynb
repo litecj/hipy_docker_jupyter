{
 "cells": [
  {
   "cell_type": "code",
   "execution_count": 13,
   "id": "91606abd",
   "metadata": {},
   "outputs": [],
   "source": [
    "import matplotlib.pyplot as plt\n",
    "import numpy as np\n",
    "import pandas as pd"
   ]
  },
  {
   "cell_type": "code",
   "execution_count": 16,
   "id": "4882b803",
   "metadata": {},
   "outputs": [],
   "source": [
    "def similar_pandas():\n",
    "    df = pd.read_csv('../data/age.csv', encoding='UTF-8', index_col=0)\n",
    "    df = df.div(df['총인구수'], axis=0)\n",
    "    del df['총인구수'], df['연령구간인구수']\n",
    "    name = \"필동\" #input('원하는 지역의 이름을 입력해주세요 : \\n')\n",
    "    a = df.index.str.contains(name)\n",
    "    df2 = df[a]\n",
    "    df.loc[np.power(df.sub(df2.iloc[0], axis=1), 2).sum(axis=1).sort_values().index[:5]].T.plot()\n",
    "    plt.show()"
   ]
  },
  {
   "cell_type": "code",
   "execution_count": null,
   "id": "4a26b403",
   "metadata": {},
   "outputs": [],
   "source": []
  }
 ],
 "metadata": {
  "kernelspec": {
   "display_name": "Python 3",
   "language": "python",
   "name": "python3"
  },
  "language_info": {
   "codemirror_mode": {
    "name": "ipython",
    "version": 3
   },
   "file_extension": ".py",
   "mimetype": "text/x-python",
   "name": "python",
   "nbconvert_exporter": "python",
   "pygments_lexer": "ipython3",
   "version": "3.9.2"
  }
 },
 "nbformat": 4,
 "nbformat_minor": 5
}
